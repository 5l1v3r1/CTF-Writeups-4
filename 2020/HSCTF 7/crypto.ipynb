{
 "cells": [
  {
   "cell_type": "code",
   "execution_count": null,
   "metadata": {},
   "outputs": [],
   "source": [
    "## Sage - Smart's Attack - https://hxp.io/blog/25/SharifCTF-2016-crypto350-British-Elevator-writeup/\n",
    "p = 0xa15c4fb663a578d8b2496d3151a946119ee42695e18e13e90600192b1d0abdbb6f787f90c8d102ff88e284dd4526f5f6b6c980bf88f1d0490714b67e8a2a2b77\n",
    "A = 0x5e009506fcc7eff573bc960d88638fe25e76a9b6c7caeea072a27dcd1fa46abb15b7b6210cf90caba982893ee2779669bac06e267013486b22ff3e24abae2d42\n",
    "B = 0x2ce7d1ca4493b0977f088f6d30d9241f8048fdea112cc385b793bce953998caae680864a7d3aa437ea3ffd1441ca3fb352b0b710bb3f053e980e503be9a7fece\n",
    "E = EllipticCurve(GF(p), [0, 0, 0, A, B])\n",
    "E.order() == p\n",
    "\n",
    "xP = 3034712809375537908102988750113382444008758539448972750581525810900634243392172703684905257490982543775233630011707375189041302436945106395617312498769005\n",
    "yP = 4986645098582616415690074082237817624424333339074969364527548107042876175480894132576399611027847402879885574130125050842710052291870268101817275410204850\n",
    "xQ = 4748198372895404866752111766626421927481971519483471383813044005699388317650395315193922226704604937454742608233124831870493636003725200307683939875286865\n",
    "yQ = 2421873309002279841021791369884483308051497215798017509805302041102468310636822060707350789776065212606890489706597369526562336256272258544226688832663757\n",
    "\n",
    "E = EllipticCurve(GF(p), [0, 0, 0, A, B])\n",
    "assert E.order() == p\n",
    "\n",
    "Qp = Qp(p, 2)\n",
    "Ep = EllipticCurve(Qp, [0, 0, 0, A, B])\n",
    "\n",
    "yPp = sqrt(Qp(xP) ** 3 + Qp(A) * Qp(xP) + Qp(B))\n",
    "Pp = Ep(Qp(xP), (-yPp, yPp)[yPp[0] == yP])\n",
    "\n",
    "yQp = sqrt(Qp(xQ) ** 3 + Qp(A) * Qp(xQ) + Qp(B))\n",
    "Qp = Ep(Qp(xQ), (-yQp, yQp)[yQp[0] == yQ])\n",
    "\n",
    "print('Pp = {}'.format(Pp))\n",
    "print('Qp = {}'.format(Qp))\n",
    "print('-' * 40)\n",
    "\n",
    "lQ = Ep.formal_group().log()(- (p * Qp)[0] // (p * Qp)[1]) / p\n",
    "print('log(Q) = {}'.format(lQ))\n",
    "lP = Ep.formal_group().log()(- (p * Pp)[0] // (p * Pp)[1]) / p\n",
    "print('log(P) = {}'.format(lP))\n",
    "print('-' * 40)\n",
    "\n",
    "e = lQ / lP\n",
    "print('e = {}'.format(e))\n",
    "\n",
    "assert e[0] * E(xP, yP) == E(xQ, yQ)\n",
    "\n",
    "print('\\n--> FLAG: {:d}\\n'.format(e[0]))"
   ]
  },
  {
   "cell_type": "code",
   "execution_count": 1,
   "metadata": {},
   "outputs": [],
   "source": [
    "p = 404993569381\n",
    "P = (391109997465, 167359562362)\n",
    "nP = (209038982304, 168517698208)\n",
    "b = 54575449882"
   ]
  },
  {
   "cell_type": "code",
   "execution_count": 2,
   "metadata": {},
   "outputs": [],
   "source": [
    "x = 391109997465\n",
    "y = 167359562362\n",
    "from Crypto.Util.number import inverse"
   ]
  },
  {
   "cell_type": "code",
   "execution_count": 3,
   "metadata": {},
   "outputs": [],
   "source": [
    "a = ((pow(y, 2, p) - pow(x, 3, p) - b)%p * inverse(x, p))%p"
   ]
  },
  {
   "cell_type": "code",
   "execution_count": 4,
   "metadata": {},
   "outputs": [
    {
     "data": {
      "text/plain": [
       "316508952642"
      ]
     },
     "execution_count": 4,
     "metadata": {},
     "output_type": "execute_result"
    }
   ],
   "source": [
    "a"
   ]
  },
  {
   "cell_type": "code",
   "execution_count": null,
   "metadata": {},
   "outputs": [],
   "source": [
    "p = 404993569381\n",
    "P = (391109997465, 167359562362)\n",
    "nP = (209038982304, 168517698208)\n",
    "b = 54575449882\n",
    "a = 316508952642\n",
    "\n",
    "## Sage - MOV Attack\n",
    "M = p\n",
    "A = a\n",
    "B = b\n",
    "\n",
    "F = GF(M)\n",
    "E = EllipticCurve(F, [A,B])\n",
    "\n",
    "P = E(P)\n",
    "nP = E(nP)\n",
    "\n",
    "print(discrete_log(nP,P,P.order(),operation='+'))\n",
    "# flag{17683067357}"
   ]
  },
  {
   "cell_type": "markdown",
   "metadata": {},
   "source": [
    "# SMol E"
   ]
  },
  {
   "cell_type": "code",
   "execution_count": 1,
   "metadata": {},
   "outputs": [],
   "source": [
    "N = 163741039289512913448211316444208415089696281156598707546239939060930005300801050041110593445808590019811244791595198691653105173667082682192119631702680644123546329907362913533410257711393278981293987091294252121612050351292239086354120710656815218407878832422193841935690159084860401941224426397820742950923\n",
    "\n",
    "E = 3\n",
    "\n",
    "C1 = 110524539798470366613834133888472781069399552085868942087632499354651575111511036068021885688092481936060366815322764760005015342876190750877958695168393505027738910101191528175868547818851667359542590042073677436170569507102025782872063324950368166532649021589734367946954269468844281238141036170008727208883\n",
    "\n",
    "C2 = 42406837735093367941682857892181550522346220427504754988544140886997339709785380303682471368168102002682892652577294324286913907635616629790484019421641636805493203989143298536257296680179745122126655008200829607192191208919525797616523271426092158734972067387818678258432674493723618035248340048171787246777"
   ]
  },
  {
   "cell_type": "code",
   "execution_count": null,
   "metadata": {},
   "outputs": [],
   "source": [
    "#!/usr/bin/sage\n",
    "#!encoding: UTF-8\n",
    "#\n",
    "# Solution for the rsa1 challenge of CONFidence CTF 2015.\n",
    "# Uses Coppersmith's short padding attack and the Franklin-Reiter attack.\n",
    "#\n",
    "# See http://www.di.ens.fr/~fouque/ens-rennes/coppersmith.pdf\n",
    "# and https://www.cs.unc.edu/~reiter/papers/1996/Eurocrypt.pdf\n",
    "\n",
    "# Copyright (c) 2015 Samuel Groß\n",
    "#\n",
    "\n",
    "from binascii import unhexlify\n",
    "\n",
    "def coppersmith_short_pad(c1, c2, n):\n",
    "    \"\"\"When provided with two ciphertexts of the same message but with different (short)\n",
    "    paddings, i.e.\n",
    "        C1 = (M | r1)^3 = M1^3 and\n",
    "        C2 = (M | r2)^3 = M2^3),\n",
    "    this function calculates the difference r2 - r1 of the two (random) paddings used\n",
    "    during encryption using Coppersmith's method. Afterwards, the Franklin-Reiter\n",
    "    attack can be applied to recover the plaintext.\n",
    "\n",
    "    See http://www.di.ens.fr/~fouque/ens-rennes/coppersmith.pdf\n",
    "\n",
    "    Returns all possible values for the difference in a list.\n",
    "    \"\"\"\n",
    "    # Fixed exponent.\n",
    "    e = 3\n",
    "\n",
    "    # Create two polynomial rings and corresponding variables. Sage cannot calculate the resultant\n",
    "    # in a ring of integers modulo N, so we'll use and integer ring for that, then switch rings afterwards.\n",
    "    RZmodN.<xm> = PolynomialRing(Zmod(n))\n",
    "    RZ.<x, y> = PolynomialRing(ZZ)\n",
    "\n",
    "    # Create the two polynomials g1 and g2. If y = r2 - r1, then g1 and g2 both have the root M1.\n",
    "    g1 = x**e - c1\n",
    "    g2 = (x + y)**e - c2\n",
    "\n",
    "    # Calculate the resultant. The resultant is the product of the differences of the roots of the\n",
    "    # two polynomials. As seen above, for the case that y = r2 - r1, both polynomials have the same\n",
    "    # root M1, thus r2 - r1 is a root of the resultant of g1 and g2.\n",
    "    p = g1.resultant(g2)\n",
    "\n",
    "    #\n",
    "    # Now let sage do all the work by calculating small roots of the resultant.\n",
    "    #\n",
    "\n",
    "    # We need a univariate polynomial for this. At this point, x should be eliminated though.\n",
    "    p = p.univariate_polynomial()\n",
    "    # Change rings. We need the ring of integers modulo N now.\n",
    "    p = p.change_ring(RZmodN).subs(y = xm)\n",
    "    # Make sure the polynomial is monic, i.e. the coefficient of x^(p.degree()) is 1.\n",
    "    p = p.monic()\n",
    "    # Now let sage to the magic. Try to find all small roots of p using Coppersmith's method.\n",
    "    return p.small_roots(X=2**(512 // 9), beta=0.5)\n",
    "\n",
    "def franklin_reiter(c1, c2, n, a=1, b=1):\n",
    "    \"\"\"Recovers the plain text message from the two cipher texts knowing\n",
    "    that they were both encrypted using the exponent 3 and that\n",
    "    M2 = a * M1 + b.\n",
    "\n",
    "    See https://www.cs.unc.edu/~reiter/papers/1996/Eurocrypt.pdf\n",
    "\n",
    "    Returns both plain text messages as a tuple.\n",
    "    \"\"\"\n",
    "    f = b*(c2 + 2*(a**3)*c1 - b**3  ) % n\n",
    "    g = a*(c2 - a**3*c1     + 2*b**3) % n\n",
    "\n",
    "    # Calculage f / g: f / g = f * g**(-1) = f * inverse_mod(g, n)\n",
    "    gi = inverse_mod(g, n)\n",
    "    m = f * gi % n\n",
    "\n",
    "    return (m, m+b)\n",
    "\n",
    "def decode(m):\n",
    "    \"\"\"Returns the provided number interpreted as a string.\"\"\"\n",
    "    h = hex(m)\n",
    "\n",
    "    if h.startswith('0x'):\n",
    "        h = h[2:]\n",
    "\n",
    "    if len(h) % 2 != 0:\n",
    "        h = '0' + h\n",
    "\n",
    "    return unhexlify(h)\n",
    "\n",
    "\n",
    "def main():\n",
    "    # Input: Ciphertexts C1, C2, with\n",
    "    #   C1 = (M | r1)^3 = M1^3\n",
    "    #   C2 = (M | r2)^3 = M2^3\n",
    "    N = 163741039289512913448211316444208415089696281156598707546239939060930005300801050041110593445808590019811244791595198691653105173667082682192119631702680644123546329907362913533410257711393278981293987091294252121612050351292239086354120710656815218407878832422193841935690159084860401941224426397820742950923\n",
    "    # flag0\n",
    "    C1 = 110524539798470366613834133888472781069399552085868942087632499354651575111511036068021885688092481936060366815322764760005015342876190750877958695168393505027738910101191528175868547818851667359542590042073677436170569507102025782872063324950368166532649021589734367946954269468844281238141036170008727208883\n",
    "    # flag1\n",
    "    C2 = 42406837735093367941682857892181550522346220427504754988544140886997339709785380303682471368168102002682892652577294324286913907635616629790484019421641636805493203989143298536257296680179745122126655008200829607192191208919525797616523271426092158734972067387818678258432674493723618035248340048171787246777\n",
    "\n",
    "    #\n",
    "    # Step 1: Use the Coppersmith Short Padding attack to recover the difference (r2 - r1)\n",
    "    # between the two paddings.\n",
    "    #\n",
    "    roots = coppersmith_short_pad(C1, C2, N)\n",
    "    print(roots)\n",
    "    assert(roots)\n",
    "\n",
    "    # The root can be negative (in which case we get a huge root, since we're still in the ring of integers modulo N),\n",
    "    # because r2 might be smaller than r1. In this case invert the root and switch C1 and C2.\n",
    "    #\n",
    "    # TODO check if we got multiple roots. In that case to Franklin-Reiter for each of them\n",
    "    # and check if the recovered message encrypts to the ciphertext again.\n",
    "    # (Or just check for ASCII or known words)\n",
    "    d = roots[0]\n",
    "#     if d >= 2**32:\n",
    "#         print(\"hi\")\n",
    "#         C1, C2 = C2, C1\n",
    "#         d = -d\n",
    "\n",
    "    #\n",
    "    # Step 2: Use the Franklin-Reiter Attack to recover the plaintext from the ciphertexts.\n",
    "    # The Franklin-Reiter Attack is applicable if e = 3 and M2 = a * M1 + b.\n",
    "    # We know b from step 1, and a = 1.\n",
    "    #\n",
    "    m, n = franklin_reiter(C1, C2, N, b=int(d))\n",
    "\n",
    "    # Remove the padding. We know its 32 bit long.\n",
    "#     m = m >> 32\n",
    "\n",
    "    # All done :)\n",
    "    print(decode(m))\n",
    "    print(m)\n",
    "    print(n)\n",
    "\n",
    "if __name__ == '__main__':\n",
    "    main()"
   ]
  },
  {
   "cell_type": "code",
   "execution_count": 2,
   "metadata": {},
   "outputs": [],
   "source": [
    "m = 1426051161596273413795556654328320105145439332147585418507576775870780450590379567453641429082640842935901398525237698534587016076610446383728128936582478631369081375319103785503713430762835018940932512662482247881629813321166872870577809910090459052486979919351415977663885575951\n",
    "n = 163741039289512913448211316445634466251292554570394264200568259166075444632948635459618170221679370470401624359048840120735746016602984080717357330237267660200156776291091042469992736342762360356613090876797965552374885370233171599016602958538445031729045705292771651845780618137347381860575839437540610020083"
   ]
  },
  {
   "cell_type": "code",
   "execution_count": 3,
   "metadata": {},
   "outputs": [],
   "source": [
    "n1 = n%N"
   ]
  },
  {
   "cell_type": "code",
   "execution_count": 4,
   "metadata": {},
   "outputs": [
    {
     "data": {
      "text/plain": [
       "1426051161596273413795556654328320105145439332147585418507576775870780450590379567453641429082640842935901398525237698534587016076610446383728128936582478631369081375319103785503713430762835018940932512662482247881629813321166872870577809910090459052486979919351413039719867069160"
      ]
     },
     "execution_count": 4,
     "metadata": {},
     "output_type": "execute_result"
    }
   ],
   "source": [
    "n1"
   ]
  },
  {
   "cell_type": "code",
   "execution_count": 5,
   "metadata": {},
   "outputs": [
    {
     "data": {
      "text/plain": [
       "True"
      ]
     },
     "execution_count": 5,
     "metadata": {},
     "output_type": "execute_result"
    }
   ],
   "source": [
    "pow(n1, 3, N) == C1"
   ]
  },
  {
   "cell_type": "code",
   "execution_count": 6,
   "metadata": {},
   "outputs": [
    {
     "data": {
      "text/plain": [
       "True"
      ]
     },
     "execution_count": 6,
     "metadata": {},
     "output_type": "execute_result"
    }
   ],
   "source": [
    "pow(m, 3, N) == C2"
   ]
  },
  {
   "cell_type": "code",
   "execution_count": 7,
   "metadata": {},
   "outputs": [],
   "source": [
    "from Crypto.Util.number import long_to_bytes, bytes_to_long"
   ]
  },
  {
   "cell_type": "code",
   "execution_count": 8,
   "metadata": {},
   "outputs": [],
   "source": [
    "a = long_to_bytes(n1)\n",
    "b = long_to_bytes(m)"
   ]
  },
  {
   "cell_type": "code",
   "execution_count": 9,
   "metadata": {},
   "outputs": [
    {
     "data": {
      "text/plain": [
       "1426051161596273413795556654328320105145439332147585418507576775870780450590379567453641429082640842935901398525237698534587016076610446383728128936582478631369081375319103785503713430762835018940932512662482247881629813321166872870577809910090459052486979919351413039719867069160"
      ]
     },
     "execution_count": 9,
     "metadata": {},
     "output_type": "execute_result"
    }
   ],
   "source": [
    "n1"
   ]
  },
  {
   "cell_type": "code",
   "execution_count": 10,
   "metadata": {},
   "outputs": [
    {
     "data": {
      "text/plain": [
       "b'\\xa0\\xe4\\xca\\xe6\\xe6@\\xa0\\xde\\xd2\\xdc\\xe8@\\x8c@\\xe8\\xde@\\xe0\\xc2\\xf2@\\xe4\\xca\\xe6\\xe0\\xca\\xc6\\xe8\\xe6\\\\@\\x92N\\xda@\\xee\\xe4\\xd2\\xe8\\xd2\\xdc\\xce@\\xe8\\xd0\\xd2\\xe6@\\xc2@\\xc8\\xc2\\xf2@\\xc4\\xca\\xcc\\xde\\xe4\\xca@\\x90\\xa6\\x86\\xa8\\x8c@\\xe6\\xe8\\xc2\\xe4\\xe8\\xe6\\\\@\\xcc\\xd8\\xc2\\xce\\xf6\\xdc`\\xe8\\xbeh\\xbe\\xecf\\xe4\\xf2\\xbe\\xe6\\xda`\\xd8\\xbe\\xcc\\xd8h\\xce\\xfa\\x14\\x00\\x00\\x00\\x00\\x00\\x00\\x00\\x01\\xf8\\x96\\xaaI\\xb2\\xe8'"
      ]
     },
     "execution_count": 10,
     "metadata": {},
     "output_type": "execute_result"
    }
   ],
   "source": [
    "a"
   ]
  },
  {
   "cell_type": "code",
   "execution_count": 11,
   "metadata": {},
   "outputs": [
    {
     "data": {
      "text/plain": [
       "b'\\xa0\\xe4\\xca\\xe6\\xe6@\\xa0\\xde\\xd2\\xdc\\xe8@\\x8c@\\xe8\\xde@\\xe0\\xc2\\xf2@\\xe4\\xca\\xe6\\xe0\\xca\\xc6\\xe8\\xe6\\\\@\\x92N\\xda@\\xee\\xe4\\xd2\\xe8\\xd2\\xdc\\xce@\\xe8\\xd0\\xd2\\xe6@\\xc2@\\xc8\\xc2\\xf2@\\xc4\\xca\\xcc\\xde\\xe4\\xca@\\x90\\xa6\\x86\\xa8\\x8c@\\xe6\\xe8\\xc2\\xe4\\xe8\\xe6\\\\@\\xcc\\xd8\\xc2\\xce\\xf6\\xdc`\\xe8\\xbeh\\xbe\\xecf\\xe4\\xf2\\xbe\\xe6\\xda`\\xd8\\xbe\\xcc\\xd8h\\xce\\xfa\\x14\\x00\\x00\\x00\\x00\\x00\\x00\\x00\\x0ch\\xa2\\x0f\\xe1\\x87\\x0f'"
      ]
     },
     "execution_count": 11,
     "metadata": {},
     "output_type": "execute_result"
    }
   ],
   "source": [
    "b"
   ]
  },
  {
   "cell_type": "code",
   "execution_count": 12,
   "metadata": {},
   "outputs": [
    {
     "data": {
      "text/plain": [
       "'a0e4cae6e640a0ded2dce8408c40e8de40e0c2f240e4cae6e0cac6e8e65c40924eda40eee4d2e8d2dcce40e8d0d2e640c240c8c2f240c4caccdee4ca4090a686a88c40e6e8c2e4e8e65c40ccd8c2cef6dc60e8be68beec66e4f2bee6da60d8beccd868cefa140000000000000001f896aa49b2e8'"
      ]
     },
     "execution_count": 12,
     "metadata": {},
     "output_type": "execute_result"
    }
   ],
   "source": [
    "a.hex()"
   ]
  },
  {
   "cell_type": "code",
   "execution_count": 13,
   "metadata": {},
   "outputs": [
    {
     "data": {
      "text/plain": [
       "'a0e4cae6e640a0ded2dce8408c40e8de40e0c2f240e4cae6e0cac6e8e65c40924eda40eee4d2e8d2dcce40e8d0d2e640c240c8c2f240c4caccdee4ca4090a686a88c40e6e8c2e4e8e65c40ccd8c2cef6dc60e8be68beec66e4f2bee6da60d8beccd868cefa14000000000000000c68a20fe1870f'"
      ]
     },
     "execution_count": 13,
     "metadata": {},
     "output_type": "execute_result"
    }
   ],
   "source": [
    "b.hex()"
   ]
  },
  {
   "cell_type": "code",
   "execution_count": 14,
   "metadata": {},
   "outputs": [
    {
     "name": "stdout",
     "output_type": "stream",
     "text": [
      "7\n"
     ]
    }
   ],
   "source": [
    "flag = b''\n",
    "cnt = 0\n",
    "for i in range(len(a)):\n",
    "    if(a[i] == b[i]):\n",
    "        flag += bytes([a[i]])\n",
    "    else:\n",
    "        cnt += 1\n",
    "print(cnt)"
   ]
  },
  {
   "cell_type": "code",
   "execution_count": 15,
   "metadata": {},
   "outputs": [
    {
     "data": {
      "text/plain": [
       "19790435423720406840569172789550124529698295785356895994216663512848825714906802578830233700394337122639729066936843650739527801182971544543100619003884713556066806895970874656583335809462640116642325081343121271926635736398509724945052461326933921532774950371328"
      ]
     },
     "execution_count": 15,
     "metadata": {},
     "output_type": "execute_result"
    }
   ],
   "source": [
    "f = bytes_to_long(flag)\n",
    "f"
   ]
  },
  {
   "cell_type": "code",
   "execution_count": 19,
   "metadata": {},
   "outputs": [],
   "source": [
    "pre = int(\"a0e4cae6e640a0ded2dce8408c40e8de40e0c2f240e4cae6e0cac6e8e65c40924eda40eee4d2e8d2dcce40e8d0d2e640c240c8c2f240c4caccdee4ca4090a686a88c40e6e8c2e4e8e65c40ccd8c2cef6dc60e8be68beec66e4f2bee6da60d8beccd868cefa14\", 16)"
   ]
  },
  {
   "cell_type": "code",
   "execution_count": 20,
   "metadata": {},
   "outputs": [
    {
     "data": {
      "text/plain": [
       "'0xa0e4cae6e640a0ded2dce8408c40e8de40e0c2f240e4cae6e0cac6e8e65c40924eda40eee4d2e8d2dcce40e8d0d2e640c240c8c2f240c4caccdee4ca4090a686a88c40e6e8c2e4e8e65c40ccd8c2cef6dc60e8be68beec66e4f2bee6da60d8beccd868cefa140000000000000000000000000000'"
      ]
     },
     "execution_count": 20,
     "metadata": {},
     "output_type": "execute_result"
    }
   ],
   "source": [
    "hex(pre*16**28)"
   ]
  },
  {
   "cell_type": "code",
   "execution_count": 25,
   "metadata": {},
   "outputs": [
    {
     "data": {
      "text/plain": [
       "True"
      ]
     },
     "execution_count": 25,
     "metadata": {},
     "output_type": "execute_result"
    }
   ],
   "source": [
    "2**112 * pre + 0x01f896aa49b2e8 == n1"
   ]
  },
  {
   "cell_type": "code",
   "execution_count": 26,
   "metadata": {},
   "outputs": [],
   "source": [
    "bitl = N.bit_length()"
   ]
  },
  {
   "cell_type": "code",
   "execution_count": 28,
   "metadata": {},
   "outputs": [
    {
     "data": {
      "text/plain": [
       "113"
      ]
     },
     "execution_count": 28,
     "metadata": {},
     "output_type": "execute_result"
    }
   ],
   "source": [
    "bitl//9"
   ]
  },
  {
   "cell_type": "code",
   "execution_count": 29,
   "metadata": {},
   "outputs": [
    {
     "data": {
      "text/plain": [
       "274647463434646394450216644177871834898972622026570800022003175822738276142070992497521332581432955725061055104142033338736725317271885401280992741788809973714030705726636331317815573192268054312258422374514195029119253083062370326198515531708948"
      ]
     },
     "execution_count": 29,
     "metadata": {},
     "output_type": "execute_result"
    }
   ],
   "source": [
    "pre"
   ]
  },
  {
   "cell_type": "code",
   "execution_count": 30,
   "metadata": {},
   "outputs": [
    {
     "data": {
      "text/plain": [
       "137323731717323197225108322088935917449486311013285400011001587911369138071035496248760666290716477862530527552071016669368362658635942700640496370894404986857015352863318165658907786596134027156129211187257097514559626541531185163099257765854474"
      ]
     },
     "execution_count": 30,
     "metadata": {},
     "output_type": "execute_result"
    }
   ],
   "source": [
    "pre//2"
   ]
  },
  {
   "cell_type": "code",
   "execution_count": 31,
   "metadata": {},
   "outputs": [
    {
     "data": {
      "text/plain": [
       "True"
      ]
     },
     "execution_count": 31,
     "metadata": {},
     "output_type": "execute_result"
    }
   ],
   "source": [
    "2**113 * 137323731717323197225108322088935917449486311013285400011001587911369138071035496248760666290716477862530527552071016669368362658635942700640496370894404986857015352863318165658907786596134027156129211187257097514559626541531185163099257765854474 + 0x01f896aa49b2e8 == n1"
   ]
  },
  {
   "cell_type": "code",
   "execution_count": 32,
   "metadata": {},
   "outputs": [
    {
     "data": {
      "text/plain": [
       "b\"Press Point F to pay respects. I'm writing this a day before HSCTF starts. flag{n0t_4_v3ry_sm0l_fl4g}\\n\""
      ]
     },
     "execution_count": 32,
     "metadata": {},
     "output_type": "execute_result"
    }
   ],
   "source": [
    "long_to_bytes(137323731717323197225108322088935917449486311013285400011001587911369138071035496248760666290716477862530527552071016669368362658635942700640496370894404986857015352863318165658907786596134027156129211187257097514559626541531185163099257765854474)"
   ]
  },
  {
   "cell_type": "code",
   "execution_count": null,
   "metadata": {},
   "outputs": [],
   "source": []
  },
  {
   "cell_type": "markdown",
   "metadata": {},
   "source": [
    "# Morbid"
   ]
  },
  {
   "cell_type": "code",
   "execution_count": 94,
   "metadata": {},
   "outputs": [],
   "source": [
    "m = {}\n",
    "m[9] = \"xx\"\n",
    "m[8] = \"x-\"\n",
    "m[7] = \"x.\"\n",
    "m[6] = \"-x\"\n",
    "m[5] = \"--\"\n",
    "m[4] = \"-.\"\n",
    "m[3] = \".x\"\n",
    "m[2] = \".-\"\n",
    "m[1] = \"..\""
   ]
  },
  {
   "cell_type": "code",
   "execution_count": 95,
   "metadata": {},
   "outputs": [],
   "source": [
    "import itertools\n",
    "x = list(itertools.permutations([1, 2, 3, 4, 5, 6, 7, 8, 9]))"
   ]
  },
  {
   "cell_type": "code",
   "execution_count": 103,
   "metadata": {},
   "outputs": [],
   "source": [
    "MORSE_CODE_DICT = { 'A':'.-', 'B':'-...', \n",
    "                    'C':'-.-.', 'D':'-..', 'E':'.', \n",
    "                    'F':'..-.', 'G':'--.', 'H':'....', \n",
    "                    'I':'..', 'J':'.---', 'K':'-.-', \n",
    "                    'L':'.-..', 'M':'--', 'N':'-.', \n",
    "                    'O':'---', 'P':'.--.', 'Q':'--.-', \n",
    "                    'R':'.-.', 'S':'...', 'T':'-', \n",
    "                    'U':'..-', 'V':'...-', 'W':'.--', \n",
    "                    'X':'-..-', 'Y':'-.--', 'Z':'--..', \n",
    "                    '1':'.----', '2':'..---', '3':'...--', \n",
    "                    '4':'....-', '5':'.....', '6':'-....', \n",
    "                    '7':'--...', '8':'---..', '9':'----.', \n",
    "                    '0':'-----', ', ':'--..--', '.':'.-.-.-', \n",
    "                    '?':'..--..', '/':'-..-.', '-':'-....-', \n",
    "                    '(':'-.--.', ')':'-.--.-', '_': '..--.-', '!': '-.-.--', '&': '.-...', '+':'.-.-.', '@': '.--.-.', '=': '-...-',\n",
    "                      ';': '-.-.-.', ':': '---...', \"'\": '.----.', 'qopen': '.-..-.', 'qclose': '.-..-.'} \n",
    "  \n",
    "# Function to encrypt the string \n",
    "# according to the morse code chart \n",
    "def encrypt(message): \n",
    "    cipher = '' \n",
    "    for letter in message: \n",
    "        if letter != ' ': \n",
    "  \n",
    "            # Looks up the dictionary and adds the \n",
    "            # correspponding morse code \n",
    "            # along with a space to separate \n",
    "            # morse codes for different characters \n",
    "            cipher += MORSE_CODE_DICT[letter] + ' '\n",
    "        else: \n",
    "            # 1 space indicates different characters \n",
    "            # and 2 indicates different words \n",
    "            cipher += ' '\n",
    "  \n",
    "    return cipher \n",
    "\n",
    "import re\n",
    "# Function to decrypt the string \n",
    "# from morse to english \n",
    "def decrypt(message): \n",
    "    message = message.replace(\"xx\", \" \")\n",
    "    message = message.replace(\"x\", \" \")\n",
    "    message = re.sub('\\s+', ' ', message)\n",
    "    message = message.strip()\n",
    "    # extra space added at the end to access the \n",
    "    # last morse code \n",
    "    message += ' '\n",
    "  \n",
    "    decipher = '' \n",
    "    citext = '' \n",
    "    for letter in message: \n",
    "  \n",
    "        # checks for space \n",
    "        if (letter != ' '): \n",
    "  \n",
    "            # counter to keep track of space \n",
    "            i = 0\n",
    "  \n",
    "            # storing morse code of a single character \n",
    "            citext += letter \n",
    "  \n",
    "        # in case of space \n",
    "        else: \n",
    "            # if i = 1 that indicates a new character \n",
    "            i += 1\n",
    "  \n",
    "            # if i = 2 that indicates a new word \n",
    "            if i == 2 : \n",
    "  \n",
    "                 # adding space to separate words \n",
    "                decipher += ' '\n",
    "            else: \n",
    "  \n",
    "                # accessing the keys using their values (reverse of encryption) \n",
    "                decipher += list(MORSE_CODE_DICT.keys())[list(MORSE_CODE_DICT \n",
    "                .values()).index(citext)] \n",
    "                citext = '' \n",
    "  \n",
    "    return decipher "
   ]
  },
  {
   "cell_type": "code",
   "execution_count": 104,
   "metadata": {},
   "outputs": [
    {
     "data": {
      "text/plain": [
       "'ONCEUPON'"
      ]
     },
     "execution_count": 104,
     "metadata": {},
     "output_type": "execute_result"
    }
   ],
   "source": [
    "decrypt(\"---x-.x-.-.x.xx..-x.--.x---x-.\")"
   ]
  },
  {
   "cell_type": "code",
   "execution_count": 105,
   "metadata": {},
   "outputs": [],
   "source": [
    "cipher = \"118289293938434193849271464117429364476994241473157664969879696938145689474393647294392739247721652822414624317164228466\""
   ]
  },
  {
   "cell_type": "code",
   "execution_count": 106,
   "metadata": {},
   "outputs": [],
   "source": [
    "# cipher = \"27435881512827465679378\""
   ]
  },
  {
   "cell_type": "code",
   "execution_count": 107,
   "metadata": {},
   "outputs": [
    {
     "name": "stdout",
     "output_type": "stream",
     "text": [
      "0KEDSUSPUINMET1LITEENERWE_TTINTENNUMUMEEHITEDHNSNEY)CWEG3MT.ETT\n",
      "-----x-.-x.x-..x...x..-xx...x.--.x..-xx..x-.xx--x.x-x.----xxx.-..x..x-x.x.xxx-.x.xx.-.x.--x.xx..--.-xxx-x-x..xx-.x-xxx.xx-.xx-.x..-x--x..-x--x.xx.xxx....x..x-x.xx-..xx....x-.xx...x-.x.xxxx-.--x-.--.-x-.-.x.--x.x--.x...--xx--x-x.-.-.-xx.x-x-\n",
      "\n",
      "TOPIR1WN1ERMTTQIATTNEETAMX/TEE8EEJMIGTKRATNITRqopenACETIWEAMAAGTTEJ\n",
      "x-x---x.--.xx..x.-.x.----x.--xx-.x.----x.xx.-.x--xxx-xx-x--.-xx..x.-xx-x-x-.xx.x.x-xx.-xx--x-..-x-..-.xxxx-x.xxx.x---..xxx.xxx.x.---x--x..xx--.x-x-.-x.-.x.-xx-x-.x..x-x.-.xx.-..-.xx.-x-.-.x.x-xx..x.--x.x.-xx--xxxx.-x.-x--.x-xx-xx.x.---xxxxx\n",
      "\n",
      "TOGER1WN1ENMATQEAATNIETTMX/EAEI8IIJMIPTKRAANETR/TCTSMTMETAGTAOEE\n",
      "x-x---xx--.xxx.x.-.x.----x.--xx-.x.----x.xxx-.x--xx.-xx-x--.-xxx.x.-x.-x-x-.x..x.x-xxx-xx--x-..-x-..-.x.x.-x.xx..x---..xx..xx..x.---x--x..x.--.x-x-.-x.-.x.-x.-x-.xx.x-x.-.xxx-..-.xxx-x-.-.xxx-x...xx--xxxx-xx--xx.xx-x.-x--.x-x.-xxxxx---xx.x.\n",
      "\n",
      "CONGRATULATIONS.PLEASEWRAPTHISMESSAGEINAFLAGFORMAT:M0R3_B1T5\n",
      "-.-.x---x-.x--.x.-.x.-x-x..-x.-..x.-x-x..x---x-.x...x.-.-.-xx.--.x.-..x.x.-x...x.xx.--x.-.x.-x.--.xx-x....x..x...xx--x.x...x...x.-x--.x.xx..x-.xx.-xx..-.x.-..x.-x--.xx..-.x---x.-.x--x.-x-x---...xx--x-----x.-.x...--x..--.-x-...x.----x-x.....\n",
      "\n",
      "EPMEA1WE1EIAMEVEAMTITTETAV&TMTZTTJANOTUAAMSTAEVET5EZGETANTASEMEEOTT\n",
      "x.x.--.x--xx.xxx.-xx.----x.--xx.xx.----xxx.x..x.-xx--xx.x...-x.xxx.-x--x-x..x-xxxx-x.x-xx.-x...-x.-...x-x--xxxx-xx--..xxx-xxx-xx.---x.-x-.x---xx-x..-x.-xx.-x--x...xxx-x.-xx.x...-xx.x-x.....xx.x--..x--.x.x-xx.-xx-.x-x.-x...x.x--x.x.x---xx-x-\n",
      "\n",
      "TTDNNK(AT(NUETTIEKEIETTET3ZEETE7TETE)MRTIAKESTANVN5TPDETIWUEEENEE\n",
      "-x-x-..x-.x-.xx-.-x-.--.xx.-xx-xx-.--.xxx-.x..-xxxx.xx-x-x..xx.xx-.-x.xxxx..x.x-x-xx.xxx-xxx...--x--..x.x.xxx-x.x--...x-x.x-x.x-.--.-xxx--x.-.x-xx..xx.-x-.-x.xx...xx-xx.-x-.x...-x-.xxx.....x-xx.--.x-..x.xxx-xxxx..xxx.--x..-xx.xx.x.x-.xxx.x.\n",
      "\n",
      "DNNK)W)NITAUEKATIETMETTVZEATE7TETE(TMRMUAKASMANVNT5PDETTITAIAEEKEE\n",
      "xxxx-..x-.x-.xx-.-x-.--.-x.--xxxx-.--.-xx-.x..xx-xx.-xxxxx..-x.xx-.-x.-x-x..x.x-x--x.x-xxx-x...-xx--..x.x.-xx-x.x--...x-x.x-x.x-.--.xx-x--x.-.x--x..-x.-x-.-x.-x...xx--x.-x-.x...-x-.x-x.....xxxx.--.x-..x.x-xxx-xx..x-x.-xx..xxx.-x.x.x-.-xx.x.\n",
      "\n",
      "TTNGETU?RT?EXEETTSTUEEIEINTE3ZEE&EE_EMNISAUEITIAE=ENHMMGTNTENWUETZ\n",
      "-x-x-.x--.x.x-x..-x..--..x.-.x-xx..--..xx.x-..-x.xxx.x-x-x...xx-x..-xx.x.x..xxx.x..xx-.x-x.x...--x--..xxxx.xx.xxx.-...x.xxx.xxx..--.-x.x--xx-.x..x...x.-x..-xx.x..x-x..x.-x.x-...-x.x-.x....x--xxx--x--.x-x-.x-x.xxxx-.x.--x..-xxx.xx-x--..xxxxx\n",
      "\n",
      "TTNNEU?RT?EUENTTSUNEITEIETE3ZTNET&ETET_EMGISAUNIIAEVEEHTONETETEWUNDTT\n",
      "-x-x-.xx-.x.xxx..-x..--..x.-.x-xx..--..xx.xx..-x.xx-.x-x-x...xxxx..-x-.x.x..x-x.x..xxx.x-x.x...--x--..x-x-.xx.x-x.-...x.x-x.x-x..--.-x.x--x--.x..x...x.-x..-x-.x..xxx..x.-x.xx...-x.xx.x....xx-xx---xx-.xxxx.x-x.xx-xx.x.--x..-xx-.xxxxx-..xx-x-\n",
      "\n",
      "TTNRTEK(AT(TVETTIECSTTET37EN7NN)GNTIACIETAT4TEHAEMREETEEWUEEREE\n",
      "-x-x-.x.-.x-x.x-.-x-.--.xx.-xx-xx-.--.xxx-x...-xxx.xxx-x-x..xxx.x-.-.xxxxx...xx-x-xxx.xx-xxx...--x--...x.xxxx-.xx--...x-.xx-.xx-.--.-xxx--.x-.x-xx..xx.-x-.-.xxx..x.x-xx.-x-x....-x-x.xx....x.-x.x--x.-.x.x.xx-xxx.xx.xx.--x..-x.xxxx.x.-.xx.x.x\n",
      "\n",
      "TYATN/DT/TINITBTNIEIEETENF8EIELEEXNMUESNNIUENTFTE4TJWTENAENDTITTREE\n",
      "x-x-.--x.-xx-xxx-.xx-..-.x-..xx-xx-..-.xxx-x..x-.xx..xx-x-...x-xxx-.x..x.x..x.xxxx.x-x.xx-.x..-.x---..x.x..xxxx.xx.-..xxx.xxx.xx-..-x-.x--x..-xx.x...x-.xx-.x..x..-xxx.x-.xx-x..-.xx-x.x....-xx-x.---x.--x-x.xx-.xx.-x.x-.x-..x-x..x-x-x.-.xx.x.\n",
      "\n",
      "TTSIENBGMBTEWTEMTANNETKENM)QEETEVEE=OSKGNECGEPE;TPSEMTIQWENEITEE\n",
      "-x-x...x..xx.xxx-.xx-...x--.x--xxx-...x-xx.x.--xx-x.x--x-x.-x-.xxx-.x.x-x-.-x.xxxxx-.xx--xx-.--.-x--.-x.x.x-xxx.xx...-xxx.xxx.xx-...-xx---x...xxx-.-x--.xx-.x.x-.-.xxxx--.xx.x.--.xx.xx-.-.-.x-xx.--.x...x.xx--xx-x..xx--.-x.--xx.x-.x.x..x-x.x.\n",
      "\n",
      "!ZIDOET&OSTNI.EINEAEHERA, EEH2SSI9FZAEDNAIEDTDATDAMRIEQDEMIE\n",
      "-.-.--xx--..xx..x-..x---x.x-x.-...x---x...xx-x-.x..xx.-.-.-xx.xx..x-.xx.x.-x.x....x.xxx.-.x.-xx--..--x.x.xx....x..---x...x...x..x----.x..-.x--..x.-xx.x-..x-.xx.-xxx..x.x-..xx-xx-..xxx.-x-xxx-..x.-xx--xxxxx.-.x..xxxx.x--.-x-..xx.xxxx--x..x.x\n",
      "\n"
     ]
    }
   ],
   "source": [
    "import sys\n",
    "for comb in x:\n",
    "    try:\n",
    "        morse = ''\n",
    "        for c in cipher:\n",
    "            morse += m[comb.index(int(c))+1]\n",
    "        print(decrypt(morse))\n",
    "        print(morse)\n",
    "        print()\n",
    "    except ValueError:\n",
    "        pass\n",
    "# flag{M0R3_B1T5}"
   ]
  },
  {
   "cell_type": "code",
   "execution_count": null,
   "metadata": {},
   "outputs": [],
   "source": []
  },
  {
   "cell_type": "markdown",
   "metadata": {},
   "source": [
    "# xkcd v2"
   ]
  },
  {
   "cell_type": "code",
   "execution_count": 1,
   "metadata": {},
   "outputs": [],
   "source": [
    "key = \"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\"\n",
    "ct = \"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\""
   ]
  },
  {
   "cell_type": "code",
   "execution_count": null,
   "metadata": {},
   "outputs": [],
   "source": [
    "key = [ ord(i) - ord('a') for i in key ]\n",
    "ct = [ ord(i) - ord('a') for i in ct ]\n",
    "key = Matrix(IntegerModRing(26),[ key[i:i+100] for i in range(0,10000,100) ]).transpose()\n",
    "# why transpose()? because the key was ill formated i guess?\n",
    "ct = Matrix(IntegerModRing(26),[ ct[i:i+100] for i in range(0,10000,100) ])\n",
    "keyinv = key.inverse()\n",
    "\n",
    "pt = ct*keyinv\n",
    "\n",
    "plaintext = \"\"\n",
    "for i in range(100):\n",
    "    plaintext += \"\".join( chr(int(i)+97) for i in pt[i] )\n",
    "# imaginegivingtheplaintextandnottheciphertext"
   ]
  }
 ],
 "metadata": {
  "kernelspec": {
   "display_name": "Python 3",
   "language": "python",
   "name": "python3"
  },
  "language_info": {
   "codemirror_mode": {
    "name": "ipython",
    "version": 3
   },
   "file_extension": ".py",
   "mimetype": "text/x-python",
   "name": "python",
   "nbconvert_exporter": "python",
   "pygments_lexer": "ipython3",
   "version": "3.8.2"
  }
 },
 "nbformat": 4,
 "nbformat_minor": 2
}
